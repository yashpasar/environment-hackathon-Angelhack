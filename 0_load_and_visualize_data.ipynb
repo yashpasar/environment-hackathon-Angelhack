{
 "cells": [
  {
   "cell_type": "markdown",
   "metadata": {},
   "source": [
    "# Notebook Objective \n",
    "Load, visualize, and understand the dataset"
   ]
  },
  {
   "cell_type": "markdown",
   "metadata": {},
   "source": [
    "# Dataset Details\n",
    "\n",
    "All the sensors are re-sampled to the same 15 minute interval \n",
    "\n",
    "__Internal Sensors Capturing Conditions in the Spheres__\n",
    "- 4 Sensors for [Carbon Dioxide](https://en.wikipedia.org/wiki/Carbon_dioxide) CO2 [ ppm ]  \n",
    "  - *column names: co2_1, co2_2, co2_3, co2_4*\n",
    "  \n",
    "  \n",
    "- 4 Sensors for [Temperature](https://en.wikipedia.org/wiki/Temperature) [ degrees F ]\n",
    "  - *column names: temp_1, temp_2, temp_3, temp_4*\n",
    "  \n",
    "  \n",
    "- 4 Sensors for [Dewpoint Sensors](https://en.wikipedia.org/wiki/Dew_point) [ degrees F ]\n",
    "  - *column names: dew_1, dew_2, dew_3, dew_4*\n",
    "\n",
    "\n",
    "- 4 Sensors for [Relative Humidity](https://en.wikipedia.org/wiki/Relative_humidity) [ % ]\n",
    "  - *column names: relH_1, relH_2, relH_3, relH_4*\n",
    "  \n",
    "__External Sensors Capturing Conditions in Downtown Seattle__\n",
    "- 1 Sensor for External Temperature\n",
    "  - *column name: externTemp_1*\n",
    "\n",
    "\n",
    "- 1 Sensor for External Humidity \n",
    "  - *column name: externHumid_1*\n",
    "\n",
    "\n",
    "- 1 Sensor for External Condition \n",
    "  - *column name: externCondition_1*\n",
    "  - values: 0 = 'clear', 1 = 'cloudy', 2 = 'flurries', 3 = 'ice', 4 = 'partlyCloudy', 5 = 'rain', 6 = 'showers', 7 = 'snow', 8 = 'thunderstorms'\n",
    "\n",
    "\n",
    "\n",
    "- 1 Sensor for External Sunrise \n",
    "  - *column name: externSunrise_1*\n",
    "  - values: 0 = sun is set, 1 = sun is out\n",
    "\n"
   ]
  },
  {
   "cell_type": "code",
   "execution_count": null,
   "metadata": {},
   "outputs": [],
   "source": [
    "import matplotlib.pylab as plt\n",
    "import numpy as np\n",
    "import pandas as pd\n",
    "from sklearn.preprocessing import LabelEncoder"
   ]
  },
  {
   "cell_type": "markdown",
   "metadata": {},
   "source": [
    "# Unpack Dataset(s) "
   ]
  },
  {
   "cell_type": "code",
   "execution_count": null,
   "metadata": {},
   "outputs": [],
   "source": [
    "!unzip data.zip"
   ]
  },
  {
   "cell_type": "code",
   "execution_count": null,
   "metadata": {},
   "outputs": [],
   "source": [
    "!cd data && ls"
   ]
  },
  {
   "cell_type": "markdown",
   "metadata": {},
   "source": [
    "# Load Raw Data"
   ]
  },
  {
   "cell_type": "code",
   "execution_count": null,
   "metadata": {},
   "outputs": [],
   "source": [
    "dataset = pd.read_csv( index_col = 0,  parse_dates = True, infer_datetime_format = True, \n",
    "                       filepath_or_buffer = './data/2018-01-01__2019-01-01__NConservatory__allMerged.csv')\n",
    "\n",
    "# localize time-index to PST [ the native timezone of the Spheres ]\n",
    "dataset.index = pd.to_datetime( dataset.index, utc=True ).tz_convert('America/Los_Angeles')"
   ]
  },
  {
   "cell_type": "code",
   "execution_count": null,
   "metadata": {},
   "outputs": [],
   "source": [
    "externConditionLabelEncoder = LabelEncoder();\n",
    "externConditionLabelEncoder.fit(['clear', 'cloudy', 'partlyCloudy', 'rain', 'showers', 'thunderstorms', 'ice', 'flurries', 'snow']);"
   ]
  },
  {
   "cell_type": "markdown",
   "metadata": {},
   "source": [
    "# Explore Data"
   ]
  },
  {
   "cell_type": "code",
   "execution_count": null,
   "metadata": {
    "scrolled": true
   },
   "outputs": [],
   "source": [
    "dataset.head()"
   ]
  },
  {
   "cell_type": "code",
   "execution_count": null,
   "metadata": {},
   "outputs": [],
   "source": [
    "dataset.index"
   ]
  },
  {
   "cell_type": "code",
   "execution_count": null,
   "metadata": {},
   "outputs": [],
   "source": [
    "dataset['co2_1'][0:10]"
   ]
  },
  {
   "cell_type": "code",
   "execution_count": null,
   "metadata": {},
   "outputs": [],
   "source": [
    "dataset['co2_1'][0:10].values"
   ]
  },
  {
   "cell_type": "markdown",
   "metadata": {},
   "source": [
    "# Visualize Data"
   ]
  },
  {
   "cell_type": "markdown",
   "metadata": {},
   "source": [
    "### Plotting parameters \n",
    "Make plots interactive & reduce whitespace in margins\n",
    "For more options refer to \n",
    "- http://matplotlib.org/api/figure_api.html#matplotlib.figure.Figure\n",
    "- https://matplotlib.org/gallery/style_sheets/style_sheets_reference.html"
   ]
  },
  {
   "cell_type": "code",
   "execution_count": null,
   "metadata": {},
   "outputs": [],
   "source": [
    "plt.rcParams['figure.figsize'] = [ 20, 15 ]\n",
    "plt.rcParams['figure.subplot.left'] = plt.rcParams['figure.subplot.bottom'] = .1\n",
    "plt.rcParams['figure.subplot.right'] = plt.rcParams['figure.subplot.top'] = .9"
   ]
  },
  {
   "cell_type": "markdown",
   "metadata": {},
   "source": [
    "### Visualize entire dataset "
   ]
  },
  {
   "cell_type": "code",
   "execution_count": null,
   "metadata": {},
   "outputs": [],
   "source": [
    "dataset.plot(subplots=True);"
   ]
  },
  {
   "cell_type": "markdown",
   "metadata": {},
   "source": [
    "### Selecting a subset of sensors to plot [ co2 ]"
   ]
  },
  {
   "cell_type": "code",
   "execution_count": null,
   "metadata": {},
   "outputs": [],
   "source": [
    "dataset[['co2_1', 'co2_2', 'co2_3', 'co2_4']].plot(subplots=True);"
   ]
  },
  {
   "cell_type": "markdown",
   "metadata": {},
   "source": [
    "### First week of 2018 [ co2, temp, dew, relH ]\n",
    "This cell uses a more explicit/fine-grained form of plotting using matplotlib syntax"
   ]
  },
  {
   "cell_type": "code",
   "execution_count": null,
   "metadata": {},
   "outputs": [],
   "source": [
    "#plt.figure( figsize = (15,15) )\n",
    "\n",
    "plt.subplot(4,1,1)\n",
    "plt.title('co2')\n",
    "plt.plot( dataset['co2_1'][0:7*96], '-xg')\n",
    "\n",
    "plt.subplot(4,1,2)\n",
    "plt.title('temperature')\n",
    "plt.plot( dataset['temp_1'][0:7*96], '-ob') \n",
    "\n",
    "plt.subplot(4,1,3)\n",
    "plt.title('dewpoint')\n",
    "plt.plot( dataset['dew_1'][0:7*96], '-ok') \n",
    "\n",
    "plt.subplot(4,1,4)\n",
    "plt.title('relative humidity')\n",
    "plt.plot( dataset['relH_1'][0:7*96], '-m.') \n",
    "\n",
    "plt.show()"
   ]
  },
  {
   "cell_type": "markdown",
   "metadata": {},
   "source": [
    "### Closer look at temperature [ external and internal over the course of the first week ]"
   ]
  },
  {
   "cell_type": "code",
   "execution_count": null,
   "metadata": {},
   "outputs": [],
   "source": [
    "dataset[['externTemp_1', 'temp_1', 'externCondition_1']][0:96*7].plot(subplots=True);"
   ]
  },
  {
   "cell_type": "markdown",
   "metadata": {},
   "source": [
    "### First week's external weather conditions"
   ]
  },
  {
   "cell_type": "code",
   "execution_count": null,
   "metadata": {},
   "outputs": [],
   "source": [
    "externConditionLabelEncoder.inverse_transform(dataset[ 'externCondition_1'][0:96*7])"
   ]
  },
  {
   "cell_type": "markdown",
   "metadata": {},
   "source": [
    "### Histogram of External Weather Conditions"
   ]
  },
  {
   "cell_type": "code",
   "execution_count": null,
   "metadata": {},
   "outputs": [],
   "source": [
    "plt.figure(figsize=(15,10));\n",
    "\n",
    "nPossibleConditons = len(externConditionLabelEncoder.classes_)\n",
    "\n",
    "dataset['externCondition_1'].hist(bins=nPossibleConditons-1, align='left', rwidth=1);\n",
    "\n",
    "plt.gca().set_xticklabels([''] + list(externConditionLabelEncoder.inverse_transform(list(range(nPossibleConditons)))));\n",
    "\n",
    "plt.title('prevalence of external conditions'); plt.ylabel('# of 15 minute instances');"
   ]
  }
 ],
 "metadata": {
  "kernelspec": {
   "display_name": "conda_pytorch_latest_p36",
   "language": "python",
   "name": "conda_pytorch_latest_p36"
  },
  "language_info": {
   "codemirror_mode": {
    "name": "ipython",
    "version": 3
   },
   "file_extension": ".py",
   "mimetype": "text/x-python",
   "name": "python",
   "nbconvert_exporter": "python",
   "pygments_lexer": "ipython3",
   "version": "3.6.10"
  }
 },
 "nbformat": 4,
 "nbformat_minor": 4
}
